{
 "cells": [
  {
   "cell_type": "markdown",
   "id": "d1ecd645",
   "metadata": {},
   "source": [
    "## Nearest Neighbor Classifier"
   ]
  },
  {
   "cell_type": "markdown",
   "id": "d7914fa1",
   "metadata": {},
   "source": [
    "### rely"
   ]
  },
  {
   "cell_type": "code",
   "execution_count": 11,
   "id": "23d9b58e",
   "metadata": {},
   "outputs": [],
   "source": [
    "import os\n",
    "import numpy as np\n",
    "import pickle\n",
    "from tqdm.notebook import trange, tqdm\n",
    "import platform\n",
    "import torch\n",
    "import matplotlib.pyplot as plt "
   ]
  },
  {
   "cell_type": "markdown",
   "id": "199b5519",
   "metadata": {},
   "source": [
    "### model"
   ]
  },
  {
   "cell_type": "code",
   "execution_count": 12,
   "id": "514b0329",
   "metadata": {},
   "outputs": [],
   "source": [
    "class NearestNeighbor(object):\n",
    "    def __init__(self):\n",
    "        pass\n",
    "\n",
    "    def train(self, X, y):\n",
    "        self.Xtr = torch.from_numpy(X).to(device)\n",
    "        self.ytr = torch.from_numpy(y).to(device)\n",
    "\n",
    "    def predict(self, X, loop=1, k=1):\n",
    "        if loop==1:\n",
    "                return self.L1_distance(X, k)\n",
    "        elif loop==2:\n",
    "                return self.L2_distance(X, k)\n",
    "        \n",
    "    def L1_distance(self, X, k=1):\n",
    "        X = torch.from_numpy(X).to(device)\n",
    "        num_test = X.shape[0]\n",
    "        Ypred = torch.zeros(num_test, dtype = self.ytr.dtype, device=device)\n",
    "        for i in trange(num_test):\n",
    "            distances = torch.sum(torch.abs(self.Xtr - X[i,:]), dim = 1)\n",
    "            if k==1:\n",
    "                min_index = torch.argmin(distances)\n",
    "            else:\n",
    "                min_indices = torch.topk(distances, k, largest=False).indices\n",
    "                nearest_classes = self.ytr[min_indices]\n",
    "                mode_value, _ = torch.mode(nearest_classes, dim=0)\n",
    "                min_index = mode_value.item()\n",
    "            Ypred[i] = self.ytr[min_index]\n",
    "        return Ypred.cpu().numpy()\n",
    "    \n",
    "    \n",
    "    def L2_distance(self, X, k=1):\n",
    "        X = torch.from_numpy(X).to(device)\n",
    "        num_test = X.shape[0]\n",
    "        Ypred = torch.zeros(num_test, dtype = self.ytr.dtype, device=device)\n",
    "        for i in trange(num_test):\n",
    "            distances = torch.sqrt(torch.sum(torch.square(self.Xtr - X[i,:]), dim = 1))\n",
    "            if k==1:\n",
    "                min_index = torch.argmin(distances)\n",
    "            else:\n",
    "                min_indices = torch.topk(distances, k, largest=False).indices\n",
    "                nearest_classes = self.ytr[min_indices]\n",
    "                mode_value, _ = torch.mode(nearest_classes, dim=0)\n",
    "                min_index = mode_value.item()\n",
    "            Ypred[i] = self.ytr[min_index]\n",
    "        return Ypred.cpu().numpy()"
   ]
  },
  {
   "cell_type": "markdown",
   "id": "8fcc6fcf",
   "metadata": {},
   "source": [
    "### load data"
   ]
  },
  {
   "cell_type": "code",
   "execution_count": 13,
   "id": "9cd65841",
   "metadata": {},
   "outputs": [],
   "source": [
    "def load_pickle(f):\n",
    "    version = platform.python_version_tuple()\n",
    "    if version[0] == '2':\n",
    "        return  pickle.load(f)\n",
    "    elif version[0] == '3':\n",
    "        return  pickle.load(f, encoding='latin1')\n",
    "    raise ValueError(\"invalid python version: {}\".format(version))\n",
    "\n",
    "def load_CIFAR_batch(filename):\n",
    "    \"\"\" load single batch of cifar \"\"\"\n",
    "    with open(filename, 'rb') as f:\n",
    "        datadict = load_pickle(f)\n",
    "        X = datadict['data']\n",
    "        Y = datadict['labels']\n",
    "        X = X.reshape(10000, 3, 32, 32).transpose(0,2,3,1).astype(\"float\")\n",
    "        Y = np.array(Y)\n",
    "        return X, Y\n",
    "\n",
    "def load_CIFAR10(ROOT):\n",
    "    \"\"\" load all of cifar \"\"\"\n",
    "    xs = []\n",
    "    ys = []\n",
    "    for b in range(1,6):\n",
    "        f = os.path.join(ROOT, 'data_batch_%d' % (b, ))\n",
    "        X, Y = load_CIFAR_batch(f)\n",
    "        xs.append(X)\n",
    "        ys.append(Y)\n",
    "    Xtr = np.concatenate(xs)\n",
    "    Ytr = np.concatenate(ys)\n",
    "    del X, Y\n",
    "    Xte, Yte = load_CIFAR_batch(os.path.join(ROOT, 'test_batch'))\n",
    "    return Xtr, Ytr, Xte, Yte "
   ]
  },
  {
   "cell_type": "markdown",
   "id": "5a58fbe9",
   "metadata": {},
   "source": [
    "### main-L1"
   ]
  },
  {
   "cell_type": "code",
   "execution_count": 14,
   "id": "84d92737",
   "metadata": {},
   "outputs": [
    {
     "data": {
      "application/vnd.jupyter.widget-view+json": {
       "model_id": "36d0d5a03089478abbcb37a62fed22e6",
       "version_major": 2,
       "version_minor": 0
      },
      "text/plain": [
       "  0%|          | 0/10000 [00:00<?, ?it/s]"
      ]
     },
     "metadata": {},
     "output_type": "display_data"
    },
    {
     "name": "stdout",
     "output_type": "stream",
     "text": [
      "accuracy: 0.385900\n"
     ]
    }
   ],
   "source": [
    "device = torch.device(\"cuda\" if torch.cuda.is_available() else \"cpu\")\n",
    "\n",
    "Xtr, Ytr, Xte, Yte = load_CIFAR10('./data/cifar10')\n",
    "Xtr_rows = Xtr.reshape(Xtr.shape[0], 32 * 32 * 3)\n",
    "Xte_rows = Xte.reshape(Xte.shape[0], 32 * 32 * 3)\n",
    "with torch.no_grad():\n",
    "    nn = NearestNeighbor()\n",
    "    nn.train(Xtr_rows, Ytr)\n",
    "    Yte_predict = nn.predict(Xte_rows)\n",
    "print ('accuracy: %f' % ( np.mean(Yte_predict == Yte) ))"
   ]
  },
  {
   "cell_type": "markdown",
   "id": "3ad48d14",
   "metadata": {},
   "source": [
    "### main-L2"
   ]
  },
  {
   "cell_type": "code",
   "execution_count": 15,
   "id": "bd80fd0e",
   "metadata": {},
   "outputs": [
    {
     "data": {
      "application/vnd.jupyter.widget-view+json": {
       "model_id": "198475d52fd145b5ac1fa692b4d3192f",
       "version_major": 2,
       "version_minor": 0
      },
      "text/plain": [
       "  0%|          | 0/10000 [00:00<?, ?it/s]"
      ]
     },
     "metadata": {},
     "output_type": "display_data"
    },
    {
     "name": "stdout",
     "output_type": "stream",
     "text": [
      "accuracy: 0.353900\n"
     ]
    }
   ],
   "source": [
    "with torch.no_grad():\n",
    "    nn = NearestNeighbor()\n",
    "    nn.train(Xtr_rows, Ytr)\n",
    "    Yte_predict = nn.predict(Xte_rows, loop=2)\n",
    "print ('accuracy: %f' % ( np.mean(Yte_predict == Yte) ))"
   ]
  },
  {
   "cell_type": "markdown",
   "id": "eb7e1b51",
   "metadata": {},
   "source": [
    "### 使用49000个训练图像进行训练，并留出1000个用于验证.\n",
    "### 该验证集本质上用作假测试集来调整超参数"
   ]
  },
  {
   "cell_type": "code",
   "execution_count": 16,
   "id": "d0918c29",
   "metadata": {},
   "outputs": [
    {
     "data": {
      "application/vnd.jupyter.widget-view+json": {
       "model_id": "19a8d94077eb45f395c1b9c6eafadd40",
       "version_major": 2,
       "version_minor": 0
      },
      "text/plain": [
       "  0%|          | 0/1000 [00:00<?, ?it/s]"
      ]
     },
     "metadata": {},
     "output_type": "display_data"
    },
    {
     "name": "stdout",
     "output_type": "stream",
     "text": [
      "accuracy: 0.381000\n"
     ]
    },
    {
     "data": {
      "application/vnd.jupyter.widget-view+json": {
       "model_id": "556e320b45264267b1b64d5f4b045f16",
       "version_major": 2,
       "version_minor": 0
      },
      "text/plain": [
       "  0%|          | 0/1000 [00:00<?, ?it/s]"
      ]
     },
     "metadata": {},
     "output_type": "display_data"
    },
    {
     "name": "stdout",
     "output_type": "stream",
     "text": [
      "accuracy: 0.108000\n"
     ]
    },
    {
     "data": {
      "application/vnd.jupyter.widget-view+json": {
       "model_id": "b695ebab68aa40acba89d6e76f3e5922",
       "version_major": 2,
       "version_minor": 0
      },
      "text/plain": [
       "  0%|          | 0/1000 [00:00<?, ?it/s]"
      ]
     },
     "metadata": {},
     "output_type": "display_data"
    },
    {
     "name": "stdout",
     "output_type": "stream",
     "text": [
      "accuracy: 0.098000\n"
     ]
    },
    {
     "data": {
      "application/vnd.jupyter.widget-view+json": {
       "model_id": "ebe958c2866c4b4ab1a916c5014adfbd",
       "version_major": 2,
       "version_minor": 0
      },
      "text/plain": [
       "  0%|          | 0/1000 [00:00<?, ?it/s]"
      ]
     },
     "metadata": {},
     "output_type": "display_data"
    },
    {
     "name": "stdout",
     "output_type": "stream",
     "text": [
      "accuracy: 0.096000\n"
     ]
    },
    {
     "data": {
      "application/vnd.jupyter.widget-view+json": {
       "model_id": "67d33e70c9234869bd85e81d9f03a954",
       "version_major": 2,
       "version_minor": 0
      },
      "text/plain": [
       "  0%|          | 0/1000 [00:00<?, ?it/s]"
      ]
     },
     "metadata": {},
     "output_type": "display_data"
    },
    {
     "name": "stdout",
     "output_type": "stream",
     "text": [
      "accuracy: 0.096000\n"
     ]
    },
    {
     "data": {
      "application/vnd.jupyter.widget-view+json": {
       "model_id": "966ff932710b49b5b06d6f1ed646ae46",
       "version_major": 2,
       "version_minor": 0
      },
      "text/plain": [
       "  0%|          | 0/1000 [00:00<?, ?it/s]"
      ]
     },
     "metadata": {},
     "output_type": "display_data"
    },
    {
     "name": "stdout",
     "output_type": "stream",
     "text": [
      "accuracy: 0.102000\n"
     ]
    },
    {
     "data": {
      "application/vnd.jupyter.widget-view+json": {
       "model_id": "0e4327ba5fb541ad8fbef08c7dabafdd",
       "version_major": 2,
       "version_minor": 0
      },
      "text/plain": [
       "  0%|          | 0/1000 [00:00<?, ?it/s]"
      ]
     },
     "metadata": {},
     "output_type": "display_data"
    },
    {
     "name": "stdout",
     "output_type": "stream",
     "text": [
      "accuracy: 0.090000\n"
     ]
    },
    {
     "data": {
      "image/png": "[encoded data removed]",
      "text/plain": [
       "<Figure size 640x480 with 1 Axes>"
      ]
     },
     "metadata": {},
     "output_type": "display_data"
    }
   ],
   "source": [
    "Xval_rows = Xtr_rows[:1000, :]\n",
    "Yval = Ytr[:1000]\n",
    "Xtr_rows = Xtr_rows[1000:, :]\n",
    "Ytr = Ytr[1000:]\n",
    "\n",
    "k_values = [1, 3, 5, 10, 20, 50, 100]\n",
    "validation_accuracies = []\n",
    "for k in k_values:\n",
    "    nn = NearestNeighbor()\n",
    "    nn.train(Xtr_rows, Ytr)\n",
    "    Yval_predict = nn.predict(Xval_rows, k = k)\n",
    "    acc = np.mean(Yval_predict == Yval)\n",
    "    print ('accuracy: %f' % (acc))\n",
    "    validation_accuracies.append(acc)\n",
    "plt.plot(k_values, validation_accuracies)\n",
    "plt.xlabel('k')\n",
    "plt.ylabel('acc')\n",
    "plt.title('Choose an appropriate hyperparameter k')\n",
    "plt.show()"
   ]
  }
 ],
 "metadata": {
  "kernelspec": {
   "display_name": "Python 3 (ipykernel)",
   "language": "python",
   "name": "python3"
  },
  "language_info": {
   "codemirror_mode": {
    "name": "ipython",
    "version": 3
   },
   "file_extension": ".py",
   "mimetype": "text/x-python",
   "name": "python",
   "nbconvert_exporter": "python",
   "pygments_lexer": "ipython3",
   "version": "3.7.12"
  }
 },
 "nbformat": 4,
 "nbformat_minor": 5
}
